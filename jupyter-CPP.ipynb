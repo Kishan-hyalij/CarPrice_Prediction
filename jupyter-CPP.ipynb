{
 "cells": [
  {
   "cell_type": "code",
   "execution_count": null,
   "id": "10b05d90",
   "metadata": {},
   "outputs": [],
   "source": [
    "import numpy as np\n",
    "import pandas as pd\n",
    "import matplotlib.pyplot as plt\n",
    "import seaborn as sns\n",
    "from sklearn.model_selection import train_test_split\n",
    "from sklearn.linear_model import LinearRegression\n",
    "from sklearn.neighbors import KNeighborsRegressor\n",
    "from sklearn.svm import SVR\n",
    "from sklearn.ensemble import RandomForestRegressor\n",
    "from sklearn.ensemble import GradientBoostingRegressor\n",
    "from sklearn.metrics import mean_absolute_error\n",
    "from sklearn.metrics import r2_score\n",
    "import warnings\n",
    "warnings.filterwarnings(\"ignore\")"
   ]
  },
  {
   "cell_type": "code",
   "execution_count": null,
   "id": "da632660",
   "metadata": {},
   "outputs": [],
   "source": [
    "Cars_Data=pd.read_csv('car')\n",
    "Cars_Data.head()"
   ]
  },
  {
   "cell_type": "code",
   "execution_count": null,
   "id": "cf297042",
   "metadata": {},
   "outputs": [],
   "source": [
    "Cars_Data.shape"
   ]
  },
  {
   "cell_type": "code",
   "execution_count": null,
   "id": "d25ac62b",
   "metadata": {},
   "outputs": [],
   "source": [
    "Cars_Data.info()"
   ]
  },
  {
   "cell_type": "code",
   "execution_count": null,
   "id": "25107420",
   "metadata": {},
   "outputs": [],
   "source": [
    "Cars_Data.describe()"
   ]
  },
  {
   "cell_type": "code",
   "execution_count": null,
   "id": "9d78e37b",
   "metadata": {},
   "outputs": [],
   "source": [
    "Cars_Data.isnull().sum()"
   ]
  },
  {
   "cell_type": "code",
   "execution_count": null,
   "id": "53fa1cab",
   "metadata": {},
   "outputs": [],
   "source": [
    "Cars_Data.head()"
   ]
  }
 ],
 "metadata": {
  "kernelspec": {
   "display_name": "Python 3",
   "language": "python",
   "name": "python3"
  },
  "language_info": {
   "name": "python",
   "version": "3.13.7"
  }
 },
 "nbformat": 4,
 "nbformat_minor": 5
}
